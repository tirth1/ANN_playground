{
  "nbformat": 4,
  "nbformat_minor": 0,
  "metadata": {
    "colab": {
      "name": "ANN_implimentation.ipynb",
      "provenance": [],
      "authorship_tag": "ABX9TyOu9QytjiD4XyMR5Owdi8Ol",
      "include_colab_link": true
    },
    "kernelspec": {
      "name": "python3",
      "display_name": "Python 3"
    },
    "language_info": {
      "name": "python"
    },
    "accelerator": "GPU"
  },
  "cells": [
    {
      "cell_type": "markdown",
      "metadata": {
        "id": "view-in-github",
        "colab_type": "text"
      },
      "source": [
        "<a href=\"https://colab.research.google.com/github/tirth1/ANN_playground/blob/main/ANN_implimentation.ipynb\" target=\"_parent\"><img src=\"https://colab.research.google.com/assets/colab-badge.svg\" alt=\"Open In Colab\"/></a>"
      ]
    },
    {
      "cell_type": "code",
      "metadata": {
        "id": "qMuafLq65sl2"
      },
      "source": [
        "import tensorflow as tf"
      ],
      "execution_count": 2,
      "outputs": []
    },
    {
      "cell_type": "code",
      "metadata": {
        "colab": {
          "base_uri": "https://localhost:8080/",
          "height": 35
        },
        "id": "Sl8-Atb26Psz",
        "outputId": "520c4b8b-7051-49ec-bd2d-ebb9b60116ef"
      },
      "source": [
        "tf.__version__"
      ],
      "execution_count": 102,
      "outputs": [
        {
          "output_type": "execute_result",
          "data": {
            "application/vnd.google.colaboratory.intrinsic+json": {
              "type": "string"
            },
            "text/plain": [
              "'2.6.0'"
            ]
          },
          "metadata": {},
          "execution_count": 102
        }
      ]
    },
    {
      "cell_type": "code",
      "metadata": {
        "colab": {
          "base_uri": "https://localhost:8080/",
          "height": 35
        },
        "id": "Ds0_ke5F6R2c",
        "outputId": "1d6d938f-ddbe-481d-9bd3-7e51e787d095"
      },
      "source": [
        "tf.keras.__version__"
      ],
      "execution_count": 103,
      "outputs": [
        {
          "output_type": "execute_result",
          "data": {
            "application/vnd.google.colaboratory.intrinsic+json": {
              "type": "string"
            },
            "text/plain": [
              "'2.6.0'"
            ]
          },
          "metadata": {},
          "execution_count": 103
        }
      ]
    },
    {
      "cell_type": "code",
      "metadata": {
        "colab": {
          "base_uri": "https://localhost:8080/"
        },
        "id": "Sq7uWWmJ6YGj",
        "outputId": "8ccee8b8-dcda-4ffa-db26-9dfa4ba89c0d"
      },
      "source": [
        "tf.config.list_physical_devices(\"GPU\")"
      ],
      "execution_count": 104,
      "outputs": [
        {
          "output_type": "execute_result",
          "data": {
            "text/plain": [
              "[PhysicalDevice(name='/physical_device:GPU:0', device_type='GPU')]"
            ]
          },
          "metadata": {},
          "execution_count": 104
        }
      ]
    },
    {
      "cell_type": "code",
      "metadata": {
        "colab": {
          "base_uri": "https://localhost:8080/"
        },
        "id": "9votaPHe7irK",
        "outputId": "ee41aab0-7dd6-46d2-e81a-c4599ffee17d"
      },
      "source": [
        "tf.config.list_physical_devices(\"TPU\")"
      ],
      "execution_count": 105,
      "outputs": [
        {
          "output_type": "execute_result",
          "data": {
            "text/plain": [
              "[]"
            ]
          },
          "metadata": {},
          "execution_count": 105
        }
      ]
    },
    {
      "cell_type": "code",
      "metadata": {
        "id": "Tc0MS_HZ7rC_"
      },
      "source": [
        "import numpy as np\n",
        "import matplotlib.pyplot as plt\n",
        "import pandas as pd\n",
        "import seaborn as sns"
      ],
      "execution_count": 3,
      "outputs": []
    },
    {
      "cell_type": "code",
      "metadata": {
        "id": "_r-wBiAq8gAT"
      },
      "source": [
        "mnist = tf.keras.datasets.mnist"
      ],
      "execution_count": 4,
      "outputs": []
    },
    {
      "cell_type": "code",
      "metadata": {
        "id": "4Kdv52ly8jtu",
        "colab": {
          "base_uri": "https://localhost:8080/"
        },
        "outputId": "1ff4cc70-160c-444d-b951-5253dc0477d0"
      },
      "source": [
        "(X_train_full, y_train_full),(X_test, y_test) = mnist.load_data()"
      ],
      "execution_count": 5,
      "outputs": [
        {
          "output_type": "stream",
          "name": "stdout",
          "text": [
            "Downloading data from https://storage.googleapis.com/tensorflow/tf-keras-datasets/mnist.npz\n",
            "11493376/11490434 [==============================] - 0s 0us/step\n",
            "11501568/11490434 [==============================] - 0s 0us/step\n"
          ]
        }
      ]
    },
    {
      "cell_type": "code",
      "metadata": {
        "colab": {
          "base_uri": "https://localhost:8080/"
        },
        "id": "-b-a_0Br8mdA",
        "outputId": "43ffe538-950d-49a2-d18d-dce738f6be99"
      },
      "source": [
        "X_train_full.shape"
      ],
      "execution_count": 6,
      "outputs": [
        {
          "output_type": "execute_result",
          "data": {
            "text/plain": [
              "(60000, 28, 28)"
            ]
          },
          "metadata": {},
          "execution_count": 6
        }
      ]
    },
    {
      "cell_type": "code",
      "metadata": {
        "colab": {
          "base_uri": "https://localhost:8080/"
        },
        "id": "CJCV9YrX8_Us",
        "outputId": "bb54df1d-4273-48f8-e17d-bf526c9f41cc"
      },
      "source": [
        "y_train_full.shape"
      ],
      "execution_count": 7,
      "outputs": [
        {
          "output_type": "execute_result",
          "data": {
            "text/plain": [
              "(60000,)"
            ]
          },
          "metadata": {},
          "execution_count": 7
        }
      ]
    },
    {
      "cell_type": "code",
      "metadata": {
        "colab": {
          "base_uri": "https://localhost:8080/"
        },
        "id": "GUAfqwtH9A4y",
        "outputId": "f82a598c-52e4-481b-ffcc-1fe27afa8dc5"
      },
      "source": [
        "X_test.shape"
      ],
      "execution_count": 8,
      "outputs": [
        {
          "output_type": "execute_result",
          "data": {
            "text/plain": [
              "(10000, 28, 28)"
            ]
          },
          "metadata": {},
          "execution_count": 8
        }
      ]
    },
    {
      "cell_type": "code",
      "metadata": {
        "colab": {
          "base_uri": "https://localhost:8080/"
        },
        "id": "81adksyv9C4v",
        "outputId": "01067296-f06f-4840-dc15-a452e336d4dd"
      },
      "source": [
        "X_train_full[0].shape"
      ],
      "execution_count": 9,
      "outputs": [
        {
          "output_type": "execute_result",
          "data": {
            "text/plain": [
              "(28, 28)"
            ]
          },
          "metadata": {},
          "execution_count": 9
        }
      ]
    },
    {
      "cell_type": "code",
      "metadata": {
        "colab": {
          "base_uri": "https://localhost:8080/",
          "height": 248
        },
        "id": "oQNsYr4p9V3J",
        "outputId": "760d79a0-6adf-45a2-97c6-37bebca8b707"
      },
      "source": [
        "img = X_train_full[0]\n",
        "plt.imshow(img, cmap=\"binary\")\n",
        "plt.axis(\"off\")\n",
        "plt.show()"
      ],
      "execution_count": 10,
      "outputs": [
        {
          "output_type": "display_data",
          "data": {
            "image/png": "[encoded data removed]",
            "text/plain": [
              "<Figure size 432x288 with 1 Axes>"
            ]
          },
          "metadata": {
            "needs_background": "light"
          }
        }
      ]
    },
    {
      "cell_type": "code",
      "metadata": {
        "colab": {
          "base_uri": "https://localhost:8080/",
          "height": 1000
        },
        "id": "7bbOfIoc9h5x",
        "outputId": "7fca7c19-07c2-4583-d48b-a4ab10b5aa5d"
      },
      "source": [
        "plt.figure(figsize=(20,20))\n",
        "sns.heatmap(img/255, annot=True, cmap=\"binary\")"
      ],
      "execution_count": 114,
      "outputs": [
        {
          "output_type": "execute_result",
          "data": {
            "text/plain": [
              "<matplotlib.axes._subplots.AxesSubplot at 0x7f72917bf350>"
            ]
          },
          "metadata": {},
          "execution_count": 114
        },
        {
          "output_type": "display_data",
          "data": {
            "image/png": "[encoded data removed]",
            "text/plain": [
              "<Figure size 1440x1440 with 2 Axes>"
            ]
          },
          "metadata": {
            "needs_background": "light"
          }
        }
      ]
    },
    {
      "cell_type": "code",
      "metadata": {
        "id": "oKGI0sYt-Dec"
      },
      "source": [
        "X_valid, X_train = X_train_full[:5000] / 255., X_train_full[5000:] / 255.\n",
        "y_valid, y_train = y_train_full[:5000], y_train_full[5000:]\n",
        "\n",
        "\n",
        "X_test = X_test / 255."
      ],
      "execution_count": 11,
      "outputs": []
    },
    {
      "cell_type": "code",
      "metadata": {
        "id": "Iwb8LcL9BVI6"
      },
      "source": [
        "LAYERS = [\n",
        "          tf.keras.layers.Flatten(input_shape=[28,28], name=\"inputLayer\"),\n",
        "          tf.keras.layers.Dense(300, activation=\"relu\", name=\"hiddenLayer1\"),\n",
        "          tf.keras.layers.Dense(100, activation=\"relu\", name=\"hiddenLayer2\"),\n",
        "          tf.keras.layers.Dense(10, activation=\"softmax\", name=\"outputLayer\")\n",
        "]"
      ],
      "execution_count": 116,
      "outputs": []
    },
    {
      "cell_type": "code",
      "metadata": {
        "id": "br6mgmnLEafT"
      },
      "source": [
        "model_clf = tf.keras.models.Sequential(LAYERS)"
      ],
      "execution_count": 117,
      "outputs": []
    },
    {
      "cell_type": "code",
      "metadata": {
        "colab": {
          "base_uri": "https://localhost:8080/"
        },
        "id": "bcOoqqM3EpKr",
        "outputId": "3814c78c-4c6a-4fb0-c915-909a39cc50a7"
      },
      "source": [
        "model_clf.summary()"
      ],
      "execution_count": 118,
      "outputs": [
        {
          "output_type": "stream",
          "name": "stdout",
          "text": [
            "Model: \"sequential_2\"\n",
            "_________________________________________________________________\n",
            "Layer (type)                 Output Shape              Param #   \n",
            "=================================================================\n",
            "inputLayer (Flatten)         (None, 784)               0         \n",
            "_________________________________________________________________\n",
            "hiddenLayer1 (Dense)         (None, 300)               235500    \n",
            "_________________________________________________________________\n",
            "hiddenLayer2 (Dense)         (None, 100)               30100     \n",
            "_________________________________________________________________\n",
            "outputLayer (Dense)          (None, 10)                1010      \n",
            "=================================================================\n",
            "Total params: 266,610\n",
            "Trainable params: 266,610\n",
            "Non-trainable params: 0\n",
            "_________________________________________________________________\n"
          ]
        }
      ]
    },
    {
      "cell_type": "code",
      "metadata": {
        "colab": {
          "base_uri": "https://localhost:8080/",
          "height": 35
        },
        "id": "r9Zn3WuTEt2c",
        "outputId": "0de94555-6b28-4828-8f72-8e85d7dddcfe"
      },
      "source": [
        "model_clf.layers[1].name"
      ],
      "execution_count": 119,
      "outputs": [
        {
          "output_type": "execute_result",
          "data": {
            "application/vnd.google.colaboratory.intrinsic+json": {
              "type": "string"
            },
            "text/plain": [
              "'hiddenLayer1'"
            ]
          },
          "metadata": {},
          "execution_count": 119
        }
      ]
    },
    {
      "cell_type": "code",
      "metadata": {
        "id": "xkKkrfbWHM3E"
      },
      "source": [
        "weigths, biases = model_clf.layers[1].get_weights()"
      ],
      "execution_count": 120,
      "outputs": []
    },
    {
      "cell_type": "code",
      "metadata": {
        "colab": {
          "base_uri": "https://localhost:8080/"
        },
        "id": "_tlOJgNLHa5E",
        "outputId": "2dcb73d7-b550-4012-f6a1-d3a3924af96c"
      },
      "source": [
        "weigths.shape"
      ],
      "execution_count": 121,
      "outputs": [
        {
          "output_type": "execute_result",
          "data": {
            "text/plain": [
              "(784, 300)"
            ]
          },
          "metadata": {},
          "execution_count": 121
        }
      ]
    },
    {
      "cell_type": "code",
      "metadata": {
        "colab": {
          "base_uri": "https://localhost:8080/"
        },
        "id": "RNoHMpbsHkg9",
        "outputId": "5a2f5638-2b65-465e-a35f-6954581b8a90"
      },
      "source": [
        "biases.shape"
      ],
      "execution_count": 122,
      "outputs": [
        {
          "output_type": "execute_result",
          "data": {
            "text/plain": [
              "(300,)"
            ]
          },
          "metadata": {},
          "execution_count": 122
        }
      ]
    },
    {
      "cell_type": "code",
      "metadata": {
        "id": "j33Ot6D0HmKN"
      },
      "source": [
        "LOSS_FUNCTION = \"sparse_categorical_crossentropy\"\n",
        "OPTIMIZER = \"SGD\"\n",
        "METRICS = [\"accuracy\"]\n",
        "\n",
        "\n",
        "model_clf.compile(loss=LOSS_FUNCTION, optimizer=OPTIMIZER, metrics=METRICS)"
      ],
      "execution_count": 123,
      "outputs": []
    },
    {
      "cell_type": "code",
      "metadata": {
        "colab": {
          "base_uri": "https://localhost:8080/"
        },
        "id": "iLi4WWDAIIC8",
        "outputId": "7d205095-4c83-4cf1-8758-701b9998dfae"
      },
      "source": [
        "EPOCHS = 30\n",
        "VALIDATION = (X_valid, y_valid)\n",
        "\n",
        "history = model_clf.fit(X_train, y_train, epochs=EPOCHS, validation_data=VALIDATION)"
      ],
      "execution_count": 125,
      "outputs": [
        {
          "output_type": "stream",
          "name": "stdout",
          "text": [
            "Epoch 1/30\n",
            "1719/1719 [==============================] - 5s 3ms/step - loss: 0.3128 - accuracy: 0.9114 - val_loss: 0.2520 - val_accuracy: 0.9288\n",
            "Epoch 2/30\n",
            "1719/1719 [==============================] - 5s 3ms/step - loss: 0.2461 - accuracy: 0.9297 - val_loss: 0.2129 - val_accuracy: 0.9404\n",
            "Epoch 3/30\n",
            "1719/1719 [==============================] - 5s 3ms/step - loss: 0.2072 - accuracy: 0.9404 - val_loss: 0.1839 - val_accuracy: 0.9468\n",
            "Epoch 4/30\n",
            "1719/1719 [==============================] - 5s 3ms/step - loss: 0.1795 - accuracy: 0.9483 - val_loss: 0.1611 - val_accuracy: 0.9554\n",
            "Epoch 5/30\n",
            "1719/1719 [==============================] - 5s 3ms/step - loss: 0.1583 - accuracy: 0.9545 - val_loss: 0.1447 - val_accuracy: 0.9598\n",
            "Epoch 6/30\n",
            "1719/1719 [==============================] - 5s 3ms/step - loss: 0.1421 - accuracy: 0.9593 - val_loss: 0.1346 - val_accuracy: 0.9624\n",
            "Epoch 7/30\n",
            "1719/1719 [==============================] - 5s 3ms/step - loss: 0.1283 - accuracy: 0.9633 - val_loss: 0.1269 - val_accuracy: 0.9656\n",
            "Epoch 8/30\n",
            "1719/1719 [==============================] - 5s 3ms/step - loss: 0.1171 - accuracy: 0.9665 - val_loss: 0.1174 - val_accuracy: 0.9672\n",
            "Epoch 9/30\n",
            "1719/1719 [==============================] - 5s 3ms/step - loss: 0.1076 - accuracy: 0.9699 - val_loss: 0.1117 - val_accuracy: 0.9694\n",
            "Epoch 10/30\n",
            "1719/1719 [==============================] - 5s 3ms/step - loss: 0.0992 - accuracy: 0.9722 - val_loss: 0.1037 - val_accuracy: 0.9714\n",
            "Epoch 11/30\n",
            "1719/1719 [==============================] - 5s 3ms/step - loss: 0.0918 - accuracy: 0.9745 - val_loss: 0.1035 - val_accuracy: 0.9708\n",
            "Epoch 12/30\n",
            "1719/1719 [==============================] - 5s 3ms/step - loss: 0.0851 - accuracy: 0.9761 - val_loss: 0.0956 - val_accuracy: 0.9730\n",
            "Epoch 13/30\n",
            "1719/1719 [==============================] - 5s 3ms/step - loss: 0.0791 - accuracy: 0.9779 - val_loss: 0.0921 - val_accuracy: 0.9742\n",
            "Epoch 14/30\n",
            "1719/1719 [==============================] - 5s 3ms/step - loss: 0.0735 - accuracy: 0.9792 - val_loss: 0.0889 - val_accuracy: 0.9744\n",
            "Epoch 15/30\n",
            "1719/1719 [==============================] - 5s 3ms/step - loss: 0.0688 - accuracy: 0.9808 - val_loss: 0.0866 - val_accuracy: 0.9746\n",
            "Epoch 16/30\n",
            "1719/1719 [==============================] - 5s 3ms/step - loss: 0.0643 - accuracy: 0.9821 - val_loss: 0.0857 - val_accuracy: 0.9754\n",
            "Epoch 17/30\n",
            "1719/1719 [==============================] - 5s 3ms/step - loss: 0.0603 - accuracy: 0.9837 - val_loss: 0.0848 - val_accuracy: 0.9754\n",
            "Epoch 18/30\n",
            "1719/1719 [==============================] - 5s 3ms/step - loss: 0.0567 - accuracy: 0.9840 - val_loss: 0.0817 - val_accuracy: 0.9760\n",
            "Epoch 19/30\n",
            "1719/1719 [==============================] - 5s 3ms/step - loss: 0.0529 - accuracy: 0.9855 - val_loss: 0.0794 - val_accuracy: 0.9774\n",
            "Epoch 20/30\n",
            "1719/1719 [==============================] - 5s 3ms/step - loss: 0.0498 - accuracy: 0.9867 - val_loss: 0.0783 - val_accuracy: 0.9786\n",
            "Epoch 21/30\n",
            "1719/1719 [==============================] - 5s 3ms/step - loss: 0.0467 - accuracy: 0.9874 - val_loss: 0.0790 - val_accuracy: 0.9768\n",
            "Epoch 22/30\n",
            "1719/1719 [==============================] - 5s 3ms/step - loss: 0.0441 - accuracy: 0.9880 - val_loss: 0.0758 - val_accuracy: 0.9768\n",
            "Epoch 23/30\n",
            "1719/1719 [==============================] - 5s 3ms/step - loss: 0.0418 - accuracy: 0.9889 - val_loss: 0.0745 - val_accuracy: 0.9766\n",
            "Epoch 24/30\n",
            "1719/1719 [==============================] - 5s 3ms/step - loss: 0.0391 - accuracy: 0.9898 - val_loss: 0.0724 - val_accuracy: 0.9784\n",
            "Epoch 25/30\n",
            "1719/1719 [==============================] - 5s 3ms/step - loss: 0.0367 - accuracy: 0.9907 - val_loss: 0.0717 - val_accuracy: 0.9786\n",
            "Epoch 26/30\n",
            "1719/1719 [==============================] - 5s 3ms/step - loss: 0.0348 - accuracy: 0.9915 - val_loss: 0.0715 - val_accuracy: 0.9774\n",
            "Epoch 27/30\n",
            "1719/1719 [==============================] - 5s 3ms/step - loss: 0.0327 - accuracy: 0.9920 - val_loss: 0.0731 - val_accuracy: 0.9768\n",
            "Epoch 28/30\n",
            "1719/1719 [==============================] - 5s 3ms/step - loss: 0.0308 - accuracy: 0.9925 - val_loss: 0.0718 - val_accuracy: 0.9790\n",
            "Epoch 29/30\n",
            "1719/1719 [==============================] - 5s 3ms/step - loss: 0.0291 - accuracy: 0.9932 - val_loss: 0.0706 - val_accuracy: 0.9778\n",
            "Epoch 30/30\n",
            "1719/1719 [==============================] - 5s 3ms/step - loss: 0.0276 - accuracy: 0.9936 - val_loss: 0.0710 - val_accuracy: 0.9784\n"
          ]
        }
      ]
    },
    {
      "cell_type": "code",
      "metadata": {
        "colab": {
          "base_uri": "https://localhost:8080/"
        },
        "id": "yzbYM15QLKve",
        "outputId": "b71b3e39-77e0-4d8d-d662-fcd253df94d1"
      },
      "source": [
        "history.params"
      ],
      "execution_count": 126,
      "outputs": [
        {
          "output_type": "execute_result",
          "data": {
            "text/plain": [
              "{'epochs': 30, 'steps': 1719, 'verbose': 1}"
            ]
          },
          "metadata": {},
          "execution_count": 126
        }
      ]
    },
    {
      "cell_type": "code",
      "metadata": {
        "colab": {
          "base_uri": "https://localhost:8080/",
          "height": 935
        },
        "id": "MgDnoXfSNJhC",
        "outputId": "44b3e139-96c7-48bc-bb10-a9ff601cf396"
      },
      "source": [
        "pd.DataFrame(history.history)"
      ],
      "execution_count": 127,
      "outputs": [
        {
          "output_type": "execute_result",
          "data": {
            "text/html": [
              "<div>\n",
              "<style scoped>\n",
              "    .dataframe tbody tr th:only-of-type {\n",
              "        vertical-align: middle;\n",
              "    }\n",
              "\n",
              "    .dataframe tbody tr th {\n",
              "        vertical-align: top;\n",
              "    }\n",
              "\n",
              "    .dataframe thead th {\n",
              "        text-align: right;\n",
              "    }\n",
              "</style>\n",
              "<table border=\"1\" class=\"dataframe\">\n",
              "  <thead>\n",
              "    <tr style=\"text-align: right;\">\n",
              "      <th></th>\n",
              "      <th>loss</th>\n",
              "      <th>accuracy</th>\n",
              "      <th>val_loss</th>\n",
              "      <th>val_accuracy</th>\n",
              "    </tr>\n",
              "  </thead>\n",
              "  <tbody>\n",
              "    <tr>\n",
              "      <th>0</th>\n",
              "      <td>0.312807</td>\n",
              "      <td>0.911418</td>\n",
              "      <td>0.252017</td>\n",
              "      <td>0.9288</td>\n",
              "    </tr>\n",
              "    <tr>\n",
              "      <th>1</th>\n",
              "      <td>0.246079</td>\n",
              "      <td>0.929709</td>\n",
              "      <td>0.212885</td>\n",
              "      <td>0.9404</td>\n",
              "    </tr>\n",
              "    <tr>\n",
              "      <th>2</th>\n",
              "      <td>0.207214</td>\n",
              "      <td>0.940436</td>\n",
              "      <td>0.183917</td>\n",
              "      <td>0.9468</td>\n",
              "    </tr>\n",
              "    <tr>\n",
              "      <th>3</th>\n",
              "      <td>0.179545</td>\n",
              "      <td>0.948273</td>\n",
              "      <td>0.161127</td>\n",
              "      <td>0.9554</td>\n",
              "    </tr>\n",
              "    <tr>\n",
              "      <th>4</th>\n",
              "      <td>0.158294</td>\n",
              "      <td>0.954455</td>\n",
              "      <td>0.144707</td>\n",
              "      <td>0.9598</td>\n",
              "    </tr>\n",
              "    <tr>\n",
              "      <th>5</th>\n",
              "      <td>0.142129</td>\n",
              "      <td>0.959291</td>\n",
              "      <td>0.134642</td>\n",
              "      <td>0.9624</td>\n",
              "    </tr>\n",
              "    <tr>\n",
              "      <th>6</th>\n",
              "      <td>0.128264</td>\n",
              "      <td>0.963327</td>\n",
              "      <td>0.126931</td>\n",
              "      <td>0.9656</td>\n",
              "    </tr>\n",
              "    <tr>\n",
              "      <th>7</th>\n",
              "      <td>0.117144</td>\n",
              "      <td>0.966527</td>\n",
              "      <td>0.117442</td>\n",
              "      <td>0.9672</td>\n",
              "    </tr>\n",
              "    <tr>\n",
              "      <th>8</th>\n",
              "      <td>0.107560</td>\n",
              "      <td>0.969855</td>\n",
              "      <td>0.111692</td>\n",
              "      <td>0.9694</td>\n",
              "    </tr>\n",
              "    <tr>\n",
              "      <th>9</th>\n",
              "      <td>0.099166</td>\n",
              "      <td>0.972164</td>\n",
              "      <td>0.103658</td>\n",
              "      <td>0.9714</td>\n",
              "    </tr>\n",
              "    <tr>\n",
              "      <th>10</th>\n",
              "      <td>0.091792</td>\n",
              "      <td>0.974527</td>\n",
              "      <td>0.103456</td>\n",
              "      <td>0.9708</td>\n",
              "    </tr>\n",
              "    <tr>\n",
              "      <th>11</th>\n",
              "      <td>0.085071</td>\n",
              "      <td>0.976055</td>\n",
              "      <td>0.095621</td>\n",
              "      <td>0.9730</td>\n",
              "    </tr>\n",
              "    <tr>\n",
              "      <th>12</th>\n",
              "      <td>0.079115</td>\n",
              "      <td>0.977945</td>\n",
              "      <td>0.092073</td>\n",
              "      <td>0.9742</td>\n",
              "    </tr>\n",
              "    <tr>\n",
              "      <th>13</th>\n",
              "      <td>0.073538</td>\n",
              "      <td>0.979200</td>\n",
              "      <td>0.088909</td>\n",
              "      <td>0.9744</td>\n",
              "    </tr>\n",
              "    <tr>\n",
              "      <th>14</th>\n",
              "      <td>0.068805</td>\n",
              "      <td>0.980836</td>\n",
              "      <td>0.086566</td>\n",
              "      <td>0.9746</td>\n",
              "    </tr>\n",
              "    <tr>\n",
              "      <th>15</th>\n",
              "      <td>0.064269</td>\n",
              "      <td>0.982127</td>\n",
              "      <td>0.085717</td>\n",
              "      <td>0.9754</td>\n",
              "    </tr>\n",
              "    <tr>\n",
              "      <th>16</th>\n",
              "      <td>0.060293</td>\n",
              "      <td>0.983727</td>\n",
              "      <td>0.084827</td>\n",
              "      <td>0.9754</td>\n",
              "    </tr>\n",
              "    <tr>\n",
              "      <th>17</th>\n",
              "      <td>0.056653</td>\n",
              "      <td>0.984000</td>\n",
              "      <td>0.081677</td>\n",
              "      <td>0.9760</td>\n",
              "    </tr>\n",
              "    <tr>\n",
              "      <th>18</th>\n",
              "      <td>0.052919</td>\n",
              "      <td>0.985473</td>\n",
              "      <td>0.079427</td>\n",
              "      <td>0.9774</td>\n",
              "    </tr>\n",
              "    <tr>\n",
              "      <th>19</th>\n",
              "      <td>0.049761</td>\n",
              "      <td>0.986709</td>\n",
              "      <td>0.078323</td>\n",
              "      <td>0.9786</td>\n",
              "    </tr>\n",
              "    <tr>\n",
              "      <th>20</th>\n",
              "      <td>0.046733</td>\n",
              "      <td>0.987436</td>\n",
              "      <td>0.079017</td>\n",
              "      <td>0.9768</td>\n",
              "    </tr>\n",
              "    <tr>\n",
              "      <th>21</th>\n",
              "      <td>0.044099</td>\n",
              "      <td>0.988018</td>\n",
              "      <td>0.075832</td>\n",
              "      <td>0.9768</td>\n",
              "    </tr>\n",
              "    <tr>\n",
              "      <th>22</th>\n",
              "      <td>0.041762</td>\n",
              "      <td>0.988927</td>\n",
              "      <td>0.074475</td>\n",
              "      <td>0.9766</td>\n",
              "    </tr>\n",
              "    <tr>\n",
              "      <th>23</th>\n",
              "      <td>0.039056</td>\n",
              "      <td>0.989836</td>\n",
              "      <td>0.072378</td>\n",
              "      <td>0.9784</td>\n",
              "    </tr>\n",
              "    <tr>\n",
              "      <th>24</th>\n",
              "      <td>0.036736</td>\n",
              "      <td>0.990691</td>\n",
              "      <td>0.071655</td>\n",
              "      <td>0.9786</td>\n",
              "    </tr>\n",
              "    <tr>\n",
              "      <th>25</th>\n",
              "      <td>0.034822</td>\n",
              "      <td>0.991527</td>\n",
              "      <td>0.071482</td>\n",
              "      <td>0.9774</td>\n",
              "    </tr>\n",
              "    <tr>\n",
              "      <th>26</th>\n",
              "      <td>0.032710</td>\n",
              "      <td>0.991964</td>\n",
              "      <td>0.073101</td>\n",
              "      <td>0.9768</td>\n",
              "    </tr>\n",
              "    <tr>\n",
              "      <th>27</th>\n",
              "      <td>0.030837</td>\n",
              "      <td>0.992491</td>\n",
              "      <td>0.071751</td>\n",
              "      <td>0.9790</td>\n",
              "    </tr>\n",
              "    <tr>\n",
              "      <th>28</th>\n",
              "      <td>0.029066</td>\n",
              "      <td>0.993218</td>\n",
              "      <td>0.070613</td>\n",
              "      <td>0.9778</td>\n",
              "    </tr>\n",
              "    <tr>\n",
              "      <th>29</th>\n",
              "      <td>0.027556</td>\n",
              "      <td>0.993582</td>\n",
              "      <td>0.070993</td>\n",
              "      <td>0.9784</td>\n",
              "    </tr>\n",
              "  </tbody>\n",
              "</table>\n",
              "</div>"
            ],
            "text/plain": [
              "        loss  accuracy  val_loss  val_accuracy\n",
              "0   0.312807  0.911418  0.252017        0.9288\n",
              "1   0.246079  0.929709  0.212885        0.9404\n",
              "2   0.207214  0.940436  0.183917        0.9468\n",
              "3   0.179545  0.948273  0.161127        0.9554\n",
              "4   0.158294  0.954455  0.144707        0.9598\n",
              "5   0.142129  0.959291  0.134642        0.9624\n",
              "6   0.128264  0.963327  0.126931        0.9656\n",
              "7   0.117144  0.966527  0.117442        0.9672\n",
              "8   0.107560  0.969855  0.111692        0.9694\n",
              "9   0.099166  0.972164  0.103658        0.9714\n",
              "10  0.091792  0.974527  0.103456        0.9708\n",
              "11  0.085071  0.976055  0.095621        0.9730\n",
              "12  0.079115  0.977945  0.092073        0.9742\n",
              "13  0.073538  0.979200  0.088909        0.9744\n",
              "14  0.068805  0.980836  0.086566        0.9746\n",
              "15  0.064269  0.982127  0.085717        0.9754\n",
              "16  0.060293  0.983727  0.084827        0.9754\n",
              "17  0.056653  0.984000  0.081677        0.9760\n",
              "18  0.052919  0.985473  0.079427        0.9774\n",
              "19  0.049761  0.986709  0.078323        0.9786\n",
              "20  0.046733  0.987436  0.079017        0.9768\n",
              "21  0.044099  0.988018  0.075832        0.9768\n",
              "22  0.041762  0.988927  0.074475        0.9766\n",
              "23  0.039056  0.989836  0.072378        0.9784\n",
              "24  0.036736  0.990691  0.071655        0.9786\n",
              "25  0.034822  0.991527  0.071482        0.9774\n",
              "26  0.032710  0.991964  0.073101        0.9768\n",
              "27  0.030837  0.992491  0.071751        0.9790\n",
              "28  0.029066  0.993218  0.070613        0.9778\n",
              "29  0.027556  0.993582  0.070993        0.9784"
            ]
          },
          "metadata": {},
          "execution_count": 127
        }
      ]
    },
    {
      "cell_type": "code",
      "metadata": {
        "colab": {
          "base_uri": "https://localhost:8080/",
          "height": 428
        },
        "id": "aBcqKL1JLbC5",
        "outputId": "fb5ee28f-1154-4684-fdf9-afcf50b11ef5"
      },
      "source": [
        "pd.DataFrame(history.history).plot(figsize=(10,7))\n",
        "plt.grid()\n",
        "plt.show()"
      ],
      "execution_count": 128,
      "outputs": [
        {
          "output_type": "display_data",
          "data": {
            "image/png": "[encoded data removed]",
            "text/plain": [
              "<Figure size 720x504 with 1 Axes>"
            ]
          },
          "metadata": {
            "needs_background": "light"
          }
        }
      ]
    },
    {
      "cell_type": "code",
      "metadata": {
        "colab": {
          "base_uri": "https://localhost:8080/"
        },
        "id": "jDbmwaniLoje",
        "outputId": "7398b54d-5abd-46ba-f387-fe5ce7fcf81e"
      },
      "source": [
        "model_clf.evaluate(X_test, y_test)"
      ],
      "execution_count": 129,
      "outputs": [
        {
          "output_type": "stream",
          "name": "stdout",
          "text": [
            "313/313 [==============================] - 1s 2ms/step - loss: 0.0704 - accuracy: 0.9783\n"
          ]
        },
        {
          "output_type": "execute_result",
          "data": {
            "text/plain": [
              "[0.07035625725984573, 0.9782999753952026]"
            ]
          },
          "metadata": {},
          "execution_count": 129
        }
      ]
    },
    {
      "cell_type": "code",
      "metadata": {
        "colab": {
          "base_uri": "https://localhost:8080/"
        },
        "id": "XYSXAZjnMh-z",
        "outputId": "8f4f3c3d-4223-4356-d746-6ad9e8fccca5"
      },
      "source": [
        "X_test_new = X_test[:3]\n",
        "y_test_new = y_test[:3]\n",
        "\n",
        "y_prob = model_clf.predict(X_new)\n",
        "y_prob.round(2)"
      ],
      "execution_count": 130,
      "outputs": [
        {
          "output_type": "execute_result",
          "data": {
            "text/plain": [
              "array([[0.06, 0.11, 0.11, 0.03, 0.11, 0.2 , 0.11, 0.06, 0.12, 0.09],\n",
              "       [0.06, 0.11, 0.11, 0.03, 0.11, 0.2 , 0.11, 0.06, 0.12, 0.09],\n",
              "       [0.06, 0.11, 0.11, 0.03, 0.11, 0.2 , 0.11, 0.06, 0.12, 0.09]],\n",
              "      dtype=float32)"
            ]
          },
          "metadata": {},
          "execution_count": 130
        }
      ]
    },
    {
      "cell_type": "code",
      "metadata": {
        "colab": {
          "base_uri": "https://localhost:8080/"
        },
        "id": "Hkru16RQMz8x",
        "outputId": "87daefcc-db7a-425a-9500-59fe4f6d0b1b"
      },
      "source": [
        "y_pred = np.argmax(y_prob, axis=-1)\n",
        "y_pred"
      ],
      "execution_count": 131,
      "outputs": [
        {
          "output_type": "execute_result",
          "data": {
            "text/plain": [
              "array([5, 5, 5])"
            ]
          },
          "metadata": {},
          "execution_count": 131
        }
      ]
    },
    {
      "cell_type": "code",
      "metadata": {
        "colab": {
          "base_uri": "https://localhost:8080/",
          "height": 809
        },
        "id": "MyiLN1zGN6kh",
        "outputId": "5dd913c1-d5b0-41fe-dd2f-4f54407b06fe"
      },
      "source": [
        "for img, pred, actual in zip(X_test_new, y_pred, y_test_new):\n",
        "  plt.imshow(img, cmap=\"binary\")\n",
        "  plt.title(f\"predicted: {pred}, Actual: {actual}\")\n",
        "  plt.axis(\"off\")\n",
        "  plt.show()\n",
        "  print(\"---\"*20)"
      ],
      "execution_count": 132,
      "outputs": [
        {
          "output_type": "display_data",
          "data": {
            "image/png": "[encoded data removed]",
            "text/plain": [
              "<Figure size 432x288 with 1 Axes>"
            ]
          },
          "metadata": {
            "needs_background": "light"
          }
        },
        {
          "output_type": "stream",
          "name": "stdout",
          "text": [
            "------------------------------------------------------------\n"
          ]
        },
        {
          "output_type": "display_data",
          "data": {
            "image/png": "[encoded data removed]",
            "text/plain": [
              "<Figure size 432x288 with 1 Axes>"
            ]
          },
          "metadata": {
            "needs_background": "light"
          }
        },
        {
          "output_type": "stream",
          "name": "stdout",
          "text": [
            "------------------------------------------------------------\n"
          ]
        },
        {
          "output_type": "display_data",
          "data": {
            "image/png": "[encoded data removed]",
            "text/plain": [
              "<Figure size 432x288 with 1 Axes>"
            ]
          },
          "metadata": {
            "needs_background": "light"
          }
        },
        {
          "output_type": "stream",
          "name": "stdout",
          "text": [
            "------------------------------------------------------------\n"
          ]
        }
      ]
    },
    {
      "cell_type": "code",
      "metadata": {
        "id": "n-rozNU3OYXp"
      },
      "source": [
        ""
      ],
      "execution_count": 132,
      "outputs": []
    }
  ]
}